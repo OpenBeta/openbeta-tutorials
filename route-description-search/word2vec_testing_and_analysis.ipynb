{
 "cells": [
  {
   "cell_type": "code",
   "execution_count": 1,
   "id": "92acdefe-4b58-4f2d-abc9-54985b16f402",
   "metadata": {},
   "outputs": [
    {
     "name": "stderr",
     "output_type": "stream",
     "text": [
      "/Users/rytheranderson/opt/anaconda3/envs/NLP/lib/python3.9/site-packages/gensim/similarities/__init__.py:15: UserWarning: The gensim.similarities.levenshtein submodule is disabled, because the optional Levenshtein package <https://pypi.org/project/python-Levenshtein/> is unavailable. Install Levenhstein (e.g. `pip install python-Levenshtein`) to suppress this warning.\n",
      "  warnings.warn(msg)\n"
     ]
    }
   ],
   "source": [
    "import re\n",
    "import math\n",
    "import string\n",
    "import pickle\n",
    "import numpy as np\n",
    "import pandas as pd\n",
    "import plotly.graph_objects as go\n",
    "\n",
    "from gensim.models import Word2Vec\n",
    "from gensim.models.phrases import Phraser\n",
    "from gensim.parsing.preprocessing import remove_stopwords\n",
    "from numpy.linalg import norm\n",
    "from sklearn.preprocessing import MinMaxScaler"
   ]
  },
  {
   "cell_type": "code",
   "execution_count": 6,
   "id": "1d86d4fa-38aa-4c9c-a357-d8f5306869c9",
   "metadata": {},
   "outputs": [],
   "source": [
    "model = Word2Vec.load('word2vec.model')\n",
    "bigram_mod = Phraser.load('bigram.model')\n",
    "trigram_mod = Phraser.load('trigram.model')\n",
    "df = pd.read_pickle('Curated_OpenBetaAug2020_RytherAnderson.pkl.zip', compression='zip')"
   ]
  },
  {
   "cell_type": "code",
   "execution_count": 2,
   "id": "d1bdf71d-752a-4653-871f-97a4db9e39ec",
   "metadata": {},
   "outputs": [],
   "source": [
    "def cosine_similarity(vec0, vec1):\n",
    "    \n",
    "    return np.dot(vec0, vec1)/(norm(vec0)*norm(vec1))\n",
    "\n",
    "def get_route_desc_words(routeID, df, bigram_mod, trigram_mod):\n",
    "    \n",
    "    routeID = str(routeID)\n",
    "    desc = list(df.loc[df.route_ID == routeID, 'description'])[0]\n",
    "    desc = ' '.join(desc)\n",
    "    desc = str(desc).lower()  # lowercase\n",
    "    desc = remove_stopwords(desc)\n",
    "    desc = re.sub(r'\\s+', ' ', desc)  # multiple spaces converted to single spaces\n",
    "    desc = re.sub('[0-9]', '', desc)  # remove digits\n",
    "    desc = re.sub(r'(?<=\\w)-(?=\\w)', ' ', desc)  # dash replaced with space\n",
    "    desc = re.sub(f'[{re.escape(string.punctuation)}]', '', desc)\n",
    "    \n",
    "    sentence = desc.split() # split and construct bigrams and trigrams\n",
    "    sentence = bigram_mod[sentence]\n",
    "    sentence = trigram_mod[bigram_mod[sentence]]\n",
    "    \n",
    "    return sentence\n",
    "\n",
    "def get_word_similarity(word0, word1, model):\n",
    "    \n",
    "    vec0 = model.wv.get_vector(word0)\n",
    "    vec1 = model.wv.get_vector(word1)\n",
    "    \n",
    "    return cosine_similarity(vec0, vec1)\n",
    "\n",
    "def desc_similarity2words(words, desc, model):\n",
    "    \n",
    "    sim_dict = dict((w, []) for w in words)\n",
    "    for word in words:\n",
    "        \n",
    "        vec0 = model.wv.get_vector(word) \n",
    "        for desc_word in desc:\n",
    "            \n",
    "            try:\n",
    "                vec1 = model.wv.get_vector(desc_word)\n",
    "            except KeyError:\n",
    "                continue\n",
    "                \n",
    "            cosine_sim = cosine_similarity(vec0, vec1)\n",
    "            sim_dict[word].append(cosine_sim)\n",
    "    \n",
    "    sim_df = []\n",
    "    for word, sims in sim_dict.items():\n",
    "        line = [word, np.max(sims)]\n",
    "        sim_df.append(line)\n",
    "        \n",
    "    sim_df = pd.DataFrame(sim_df, columns=['key_word', 'agg_sim'])\n",
    "    \n",
    "    return sim_df\n",
    "\n",
    "def get_closest_words2avg_desc(desc, model, N=10):\n",
    "    \n",
    "    used_words = []\n",
    "    for word in desc:\n",
    "        try:\n",
    "            vec = model.wv.get_vector(word)\n",
    "            used_words.append(word)\n",
    "        except KeyError:\n",
    "            continue\n",
    "            \n",
    "    closest = model.wv.most_similar(positive=used_words, topn=N)\n",
    "    \n",
    "    return closest"
   ]
  },
  {
   "cell_type": "code",
   "execution_count": 3,
   "id": "a5212a99-f943-46bf-bb35-6ee4eebb0c31",
   "metadata": {},
   "outputs": [],
   "source": [
    "all_words = [\n",
    "             # general descriptors\n",
    "             'dynamic',\n",
    "             'powerful',\n",
    "             'technical',\n",
    "             'sustained',\n",
    "             'pump',\n",
    "             'body_tension',\n",
    "             'scary',\n",
    "             'chossy',\n",
    "             'fun',\n",
    "             \n",
    "             # rock features\n",
    "             'dihedral',\n",
    "             'arete',\n",
    "             'roof',\n",
    "             'slab',\n",
    "             'crack'\n",
    "             ]\n",
    "\n",
    "# all_word_sims = []\n",
    "# for route_ID in df.route_ID:\n",
    "#     \n",
    "#     desc_words = get_route_desc_words(route_ID, df, bigram_mod, trigram_mod)\n",
    "#     \n",
    "#     if len(desc_words) > 10:\n",
    "#         sims = desc_similarity2words(all_words, desc_words, model)\n",
    "#         all_word_sims.append(sims.agg_sim.values)\n",
    "#     \n",
    "# avg_word_sims = np.average(np.array(all_word_sims), axis=0)\n",
    "# avg_word_sims = pd.DataFrame({'key_word': all_words, 'avg_agg_sim': avg_word_sims})\n",
    "# avg_word_sims.to_csv('avg_word_sims.csv')\n",
    "\n",
    "avg_word_sims = pd.read_csv('avg_word_sims.csv')"
   ]
  },
  {
   "cell_type": "code",
   "execution_count": 45,
   "id": "47b9f52a-feab-4ca2-b92f-126817aae4a2",
   "metadata": {},
   "outputs": [
    {
     "data": {
      "text/html": [
       "<div>\n",
       "<style scoped>\n",
       "    .dataframe tbody tr th:only-of-type {\n",
       "        vertical-align: middle;\n",
       "    }\n",
       "\n",
       "    .dataframe tbody tr th {\n",
       "        vertical-align: top;\n",
       "    }\n",
       "\n",
       "    .dataframe thead th {\n",
       "        text-align: right;\n",
       "    }\n",
       "</style>\n",
       "<table border=\"1\" class=\"dataframe\">\n",
       "  <thead>\n",
       "    <tr style=\"text-align: right;\">\n",
       "      <th></th>\n",
       "      <th>key_word</th>\n",
       "      <th>deviation_from_avg</th>\n",
       "    </tr>\n",
       "  </thead>\n",
       "  <tbody>\n",
       "    <tr>\n",
       "      <th>0</th>\n",
       "      <td>dihedral</td>\n",
       "      <td>0.257850</td>\n",
       "    </tr>\n",
       "    <tr>\n",
       "      <th>1</th>\n",
       "      <td>arete</td>\n",
       "      <td>0.284088</td>\n",
       "    </tr>\n",
       "    <tr>\n",
       "      <th>2</th>\n",
       "      <td>roof</td>\n",
       "      <td>0.646592</td>\n",
       "    </tr>\n",
       "    <tr>\n",
       "      <th>3</th>\n",
       "      <td>slab</td>\n",
       "      <td>0.637010</td>\n",
       "    </tr>\n",
       "    <tr>\n",
       "      <th>4</th>\n",
       "      <td>crack</td>\n",
       "      <td>0.100000</td>\n",
       "    </tr>\n",
       "  </tbody>\n",
       "</table>\n",
       "</div>"
      ],
      "text/plain": [
       "   key_word  deviation_from_avg\n",
       "0  dihedral            0.257850\n",
       "1     arete            0.284088\n",
       "2      roof            0.646592\n",
       "3      slab            0.637010\n",
       "4     crack            0.100000"
      ]
     },
     "execution_count": 45,
     "metadata": {},
     "output_type": "execute_result"
    }
   ],
   "source": [
    "def route_keyword_distance_deviations(route_ID, avg_distances, df, model, words):\n",
    "    \n",
    "    desc_words = get_route_desc_words(route_ID, df, bigram_mod, trigram_mod)\n",
    "    sims = desc_similarity2words(words, desc_words, model)\n",
    "    sims = sims.merge(avg_distances, on='key_word')\n",
    "    sims['deviation_from_avg'] = sims.agg_sim - sims.avg_agg_sim\n",
    "    sims['deviation_from_avg'] = sims.deviation_from_avg - sims.deviation_from_avg.min() + 0.1\n",
    "    \n",
    "    return sims[['key_word', 'deviation_from_avg']].copy()\n",
    "\n",
    "general_descriptors = [\n",
    "    'dynamic',\n",
    "    'powerful',\n",
    "    'technical',\n",
    "    'sustained',\n",
    "    'pump',\n",
    "    'body_tension',\n",
    "    'scary',\n",
    "    'chossy',\n",
    "    'fun']\n",
    "\n",
    "rock_features = [\n",
    "    'dihedral',\n",
    "    'arete',\n",
    "    'roof',\n",
    "    'slab',\n",
    "    'crack']\n",
    "    \n",
    "route_keyword_distance_deviations(106812289, avg_word_sims, df, model, rock_features)"
   ]
  },
  {
   "cell_type": "code",
   "execution_count": 55,
   "id": "cde68f03-5a59-41d4-833d-2399e7875649",
   "metadata": {},
   "outputs": [],
   "source": [
    "def multi_route_radar_plot(route_IDs, df, model, comp_words, label_map):\n",
    "    \n",
    "    fig = go.Figure()\n",
    "    avg_word_sims = pd.read_csv('avg_word_sims.csv')\n",
    "    route_IDs = [str(rID) for rID in route_IDs]\n",
    "    \n",
    "    for rID in route_IDs:\n",
    "        \n",
    "        sims = route_keyword_distance_deviations(rID, avg_word_sims, df, model, comp_words)\n",
    "        rounded = [np.round(x, 2) for x in sims.deviation_from_avg]\n",
    "        \n",
    "        for key_word, label in label_map.items():\n",
    "            sims.loc[sims.key_word == key_word, 'key_word'] = label\n",
    "            \n",
    "        rdf = df[df.route_ID == rID]\n",
    "        name = rdf.route_name.values[0]\n",
    "        YDS = rdf.nopm_YDS.values[0] if rdf.nopm_YDS.values[0] else ''\n",
    "        Vermin = rdf.nopm_Vermin.values[0] if rdf.nopm_Vermin.values[0] else ''\n",
    "        sims['route_name'] = rdf.route_name.values[0]\n",
    "\n",
    "        if len(YDS) == 0 and len(Vermin) == 0:\n",
    "            legend_label = f'{name} ({YDS}/{Vermin})'\n",
    "        elif len(YDS) != 0 and len(Vermin) == 0:\n",
    "            legend_label = f'{name} ({YDS})'\n",
    "        elif len(YDS) == 0 and len(Vermin) != 0:\n",
    "            legend_label = f'{name} ({Vermin})'\n",
    "        else:\n",
    "            legend_label = name\n",
    "            \n",
    "        fig.add_trace(\n",
    "            go.Scatterpolar(\n",
    "                r=sims.deviation_from_avg,\n",
    "                fill='toself',\n",
    "                theta=sims.key_word,\n",
    "                customdata=np.c_[sims.route_name, sims.key_word, rounded],\n",
    "                hoverlabel=dict(font_size=12, font_family='Arial', bgcolor='white'),\n",
    "                hovertemplate=\n",
    "                    '<b>%{customdata[0]}</b><br>' +\n",
    "                    '%{customdata[1]} = ' +\n",
    "                    '%{customdata[2]}' +\n",
    "                    '<extra></extra>',\n",
    "                name=legend_label,\n",
    "            )\n",
    "        )\n",
    "        \n",
    "    fig.update_layout(margin=go.layout.Margin(l=1, r=1, b=25, t=25, pad=5))\n",
    "    fig.update_layout(polar=dict(radialaxis=dict(showticklabels=False, ticks='', linewidth=0)))\n",
    "    fig.update_layout(template='gridon')\n",
    "    \n",
    "    return fig\n",
    "\n",
    "def route_profile_plot(route_ID, df, model, comp_words, label_map):\n",
    "    \n",
    "    route_ID = str(route_ID)\n",
    "    sims = route_keyword_distance_deviations(route_ID, avg_word_sims, df, model, comp_words)\n",
    "    rounded = [np.round(x, 2) for x in sims.deviation_from_avg]\n",
    "    \n",
    "    for key_word, label in label_map.items():\n",
    "        sims.loc[sims.key_word == key_word, 'key_word'] = label\n",
    "        \n",
    "    rdf = df[df.route_ID == route_ID]\n",
    "    name = rdf.route_name.values[0]\n",
    "    yds = rdf.nopm_YDS.values[0] if rdf.nopm_YDS.values[0] else ''\n",
    "    vermin = rdf.nopm_Vermin.values[0] if rdf.nopm_Vermin.values[0] else ''\n",
    "    sims['route_name'] = rdf.route_name.values[0]\n",
    "    \n",
    "    if len(yds) == 0 and len(vermin) == 0:\n",
    "        legend_label = f'{name} ({yds}/{vermin})'\n",
    "    elif len(yds) != 0 and len(vermin) == 0:\n",
    "        legend_label = f'{name} ({yds})'\n",
    "    elif len(yds) == 0 and len(vermin) != 0:\n",
    "        legend_label = f'{name} ({vermin})'\n",
    "    else:\n",
    "        legend_label = name\n",
    "    \n",
    "    fig = go.Figure()\n",
    "    fig.add_trace(\n",
    "        go.Barpolar(\n",
    "            r=sims.deviation_from_avg,\n",
    "            theta=sims.key_word,\n",
    "            customdata=np.c_[sims.key_word, rounded],\n",
    "            hoverlabel=dict(font_size=12, font_family='Arial', bgcolor='white'),\n",
    "            hovertemplate=\n",
    "                '%{customdata[0]} = ' +\n",
    "                '%{customdata[1]}' +\n",
    "                '<extra></extra>',\n",
    "            name=legend_label,\n",
    "            marker=dict(color=sims.deviation_from_avg, colorscale='viridis')\n",
    "        )\n",
    "    )\n",
    "        \n",
    "    fig.update_layout(margin=go.layout.Margin(l=1, r=1, b=25, t=25, pad=5), template='gridon')\n",
    "    fig.update_layout(polar=dict(radialaxis=dict(showticklabels=False, ticks='', linewidth=0)))\n",
    "    fig.update_layout(title={\n",
    "        'text': '<b>' + sims['route_name'].unique()[0],\n",
    "        'y':0.98,\n",
    "        'x':0.40,\n",
    "        'xanchor': 'center',\n",
    "        'yanchor': 'top'})\n",
    "    \n",
    "    return fig\n"
   ]
  },
  {
   "cell_type": "code",
   "execution_count": 59,
   "id": "f89d62b4-568a-455a-912f-3b38aca364ba",
   "metadata": {},
   "outputs": [
    {
     "data": {
      "application/vnd.plotly.v1+json": {
       "config": {
        "plotlyServerURL": "https://plot.ly"
       },
       "data": [
        {
         "customdata": [
          [
           "Dynamic",
           0.17
          ],
          [
           "Powerful",
           0.23
          ],
          [
           "Technical",
           0.28
          ],
          [
           "Sustained",
           0.35
          ],
          [
           "Pumpy",
           0.43
          ],
          [
           "Body Tension",
           0.26
          ],
          [
           "Scary",
           0.15
          ],
          [
           "Chossy",
           0.1
          ],
          [
           "Fun",
           0.18
          ]
         ],
         "hoverlabel": {
          "bgcolor": "white",
          "font": {
           "family": "Arial",
           "size": 12
          }
         },
         "hovertemplate": "%{customdata[0]} = %{customdata[1]}<extra></extra>",
         "marker": {
          "color": [
           0.17231801336006167,
           0.23263863601997378,
           0.2822416853365326,
           0.34732711535285954,
           0.42767028048774713,
           0.2631747453081512,
           0.15191610210746762,
           0.1,
           0.18475720578407281
          ],
          "colorscale": [
           [
            0,
            "#440154"
           ],
           [
            0.1111111111111111,
            "#482878"
           ],
           [
            0.2222222222222222,
            "#3e4989"
           ],
           [
            0.3333333333333333,
            "#31688e"
           ],
           [
            0.4444444444444444,
            "#26828e"
           ],
           [
            0.5555555555555556,
            "#1f9e89"
           ],
           [
            0.6666666666666666,
            "#35b779"
           ],
           [
            0.7777777777777778,
            "#6ece58"
           ],
           [
            0.8888888888888888,
            "#b5de2b"
           ],
           [
            1,
            "#fde725"
           ]
          ]
         },
         "name": "Beer Run (5.13a)",
         "r": [
          0.17231801336006167,
          0.23263863601997378,
          0.2822416853365326,
          0.34732711535285954,
          0.42767028048774713,
          0.2631747453081512,
          0.15191610210746762,
          0.1,
          0.18475720578407281
         ],
         "theta": [
          "Dynamic",
          "Powerful",
          "Technical",
          "Sustained",
          "Pumpy",
          "Body Tension",
          "Scary",
          "Chossy",
          "Fun"
         ],
         "type": "barpolar"
        }
       ],
       "layout": {
        "margin": {
         "b": 25,
         "l": 1,
         "pad": 5,
         "r": 1,
         "t": 25
        },
        "polar": {
         "radialaxis": {
          "linewidth": 0,
          "showticklabels": false,
          "ticks": ""
         }
        },
        "template": {
         "data": {
          "pie": [
           {
            "automargin": true,
            "type": "pie"
           }
          ]
         },
         "layout": {
          "xaxis": {
           "showgrid": true,
           "title": {
            "standoff": 15
           }
          },
          "yaxis": {
           "showgrid": true,
           "title": {
            "standoff": 15
           }
          }
         }
        },
        "title": {
         "text": "<b>Beer Run",
         "x": 0.4,
         "xanchor": "center",
         "y": 0.98,
         "yanchor": "top"
        }
       }
      }
     },
     "metadata": {},
     "output_type": "display_data"
    }
   ],
   "source": [
    "# 114776484 No Excuse\n",
    "# 106811748 Choke Cherry Eyes\n",
    "# 113170173 Whipped Cream\n",
    "# 107381798\tDeepwater Horizon\n",
    "# 105762645 Childhood's End\n",
    "# 105749158 Sonic Youth\n",
    "# 105756778\tThe Scenic Cruise\n",
    "# 105758647 Fission aka Ken T'ank\n",
    "# 105749797\tY2K\n",
    "# 112095476\tBackdoor Man\n",
    "# 106812289 Double Stout\n",
    "# 105749530 Skimbleshanks\n",
    "# 106980056 The Rodeo\n",
    "# 107892801 Chuckles\n",
    "# 105753859 Beer Run\n",
    "\n",
    "IDs = [114776484, 106812289, 113170173]\n",
    "\n",
    "label_map = {\n",
    "    'dynamic': 'Dynamic',\n",
    "    'powerful': 'Powerful',\n",
    "    'technical': 'Technical',\n",
    "    'sustained': 'Sustained',\n",
    "    'pump': 'Pumpy',\n",
    "    'body_tension': 'Body Tension',\n",
    "    'scary': 'Scary',\n",
    "    'chossy': 'Chossy',\n",
    "    'fun': 'Fun',\n",
    "}\n",
    "\n",
    "# multi_route_radar_plot(IDs, df, model, general_descriptors, label_map)\n",
    "route_profile_plot(105753859, df, model, general_descriptors, label_map)\n",
    "\n"
   ]
  },
  {
   "cell_type": "code",
   "execution_count": null,
   "id": "ba846d6f-c820-49f9-a76e-8982031a412c",
   "metadata": {},
   "outputs": [],
   "source": []
  }
 ],
 "metadata": {
  "kernelspec": {
   "display_name": "Python 3 (ipykernel)",
   "language": "python",
   "name": "python3"
  },
  "language_info": {
   "codemirror_mode": {
    "name": "ipython",
    "version": 3
   },
   "file_extension": ".py",
   "mimetype": "text/x-python",
   "name": "python",
   "nbconvert_exporter": "python",
   "pygments_lexer": "ipython3",
   "version": "3.9.7"
  }
 },
 "nbformat": 4,
 "nbformat_minor": 5
}
