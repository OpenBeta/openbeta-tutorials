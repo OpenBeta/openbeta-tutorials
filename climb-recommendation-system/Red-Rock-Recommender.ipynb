{
 "cells": [
  {
   "cell_type": "code",
   "execution_count": null,
   "metadata": {},
   "outputs": [],
   "source": [
    "import pandas as pd\n",
    "\n",
    "df = pd.read_csv(\"./openbeta-ratings-nevada.zip\", compression=\"zip\")"
   ]
  },
  {
   "cell_type": "code",
   "execution_count": null,
   "metadata": {},
   "outputs": [],
   "source": [
    "df.sample(5)"
   ]
  },
  {
   "cell_type": "code",
   "execution_count": null,
   "metadata": {},
   "outputs": [],
   "source": [
    "# aggregate climbs by rating counts\n",
    "popular = df.groupby(['name'])['ratings'].count().reset_index(name=\"count\").sort_values(by=['count'], ascending=False)\n",
    "print(\"Popular climbs by user ratings\")\n",
    "popular.head(20)"
   ]
  },
  {
   "cell_type": "code",
   "execution_count": null,
   "metadata": {},
   "outputs": [],
   "source": [
    "# create user-climb matrix\n",
    "mx = df.pivot_table(index = 'users', columns = 'route_id', aggfunc=np.mean, values='ratings').fillna(0)\n",
    "mx.sample(5)"
   ]
  },
  {
   "cell_type": "code",
   "execution_count": null,
   "metadata": {},
   "outputs": [],
   "source": [
    "from surprise import Dataset\n",
    "from surprise import Reader\n",
    "from surprise import accuracy\n",
    "from surprise import KNNWithMeans\n",
    "from surprise import KNNWithZScore\n",
    "from surprise.model_selection import train_test_split\n",
    "from surprise.model_selection import KFold\n",
    "\n",
    "\n",
    "reader = Reader(rating_scale=(0, 4)) # not sure scale should be 0-4 or 1-4?\n",
    "data = Dataset.load_from_df(df[['users', 'route_id', 'ratings']], reader)\n",
    "\n",
    "sim_options = {'name': 'msd', 'user_based': False, 'min_support': 2}\n",
    "algo = KNNWithZScore(sim_options=sim_options)\n",
    "\n",
    "kf = KFold(n_splits=5)\n",
    "\n",
    "for trainset, testset in kf.split(data):\n",
    "    \n",
    "    # train and test algorithm.\n",
    "    algo.fit(trainset)\n",
    "    predictions = algo.test(testset)\n",
    "\n",
    "    # Compute and print Root Mean Squared Error\n",
    "    accuracy.rmse(predictions, verbose=True)\n",
    "\n",
    "\n",
    "def predict_routes(climb_name):\n",
    "    route_id = df[df.name==climb_name]['route_id'].iloc[1]\n",
    "    iid = route_id\n",
    "    print(\"People who climbed '{}' also climbed\".format(climb_name))\n",
    "    \n",
    "    # get similar climbs\n",
    "    pred = algo.get_neighbors(trainset.to_inner_iid(iid), 50)\n",
    "\n",
    "    # convert Surprise internal id to MP id\n",
    "    print(pred)\n",
    "    recs = map(lambda id: trainset.to_raw_iid(id), np.asarray(pred))\n",
    "    results = df[df.route_id.isin(recs)]\n",
    "\n",
    "    r = results.pivot_table(index=['name', 'route_id', 'type', 'grade'], aggfunc=[np.mean, np.median, np.size], values='ratings')\n",
    "    print(r)"
   ]
  },
  {
   "cell_type": "code",
   "execution_count": null,
   "metadata": {},
   "outputs": [],
   "source": [
    "predict_routes(\"Epinephrine\")"
   ]
  }
 ],
 "metadata": {
  "kernelspec": {
   "display_name": "Python 3",
   "language": "python",
   "name": "python3"
  },
  "language_info": {
   "codemirror_mode": {
    "name": "ipython",
    "version": 3
   },
   "file_extension": ".py",
   "mimetype": "text/x-python",
   "name": "python",
   "nbconvert_exporter": "python",
   "pygments_lexer": "ipython3",
   "version": "3.7.7"
  }
 },
 "nbformat": 4,
 "nbformat_minor": 2
}
