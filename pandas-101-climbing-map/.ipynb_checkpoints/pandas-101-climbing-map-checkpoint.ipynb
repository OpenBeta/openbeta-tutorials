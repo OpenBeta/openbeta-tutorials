{
 "cells": [
  {
   "cell_type": "code",
   "execution_count": null,
   "metadata": {},
   "outputs": [],
   "source": [
    "import pandas as pd\n",
    "import geopandas as gpd\n",
    "from shapely.geometry import Point\n",
    "    \n",
    "df = pd.read_json(\"../../opendata/openbeta-usa-routes-aug-2020.zip\", lines=True)\n",
    "%matplotlib inline"
   ]
  },
  {
   "cell_type": "code",
   "execution_count": null,
   "metadata": {},
   "outputs": [],
   "source": [
    "df.sample(5)"
   ]
  },
  {
   "cell_type": "code",
   "execution_count": null,
   "metadata": {},
   "outputs": [],
   "source": [
    "# turn 'metadata' json into pandas columns\n",
    "df1=df.join(pd.json_normalize(df['metadata']).add_prefix(\"metadata.\")).drop(['metadata'], axis=1)\n",
    "geometry = [Point(tuple(xy)) for xy in df1['metadata.parent_lnglat']]\n",
    "\n",
    "print('Rendering map... Please wait.')\n",
    "\n",
    "geo_df = gpd.GeoDataFrame(df1, crs=\"EPSG:4326\", geometry=geometry)\n",
    "geo_df.plot(figsize=(20, 20), alpha=0.5, edgecolor='k')"
   ]
  },
  {
   "cell_type": "code",
   "execution_count": null,
   "metadata": {},
   "outputs": [],
   "source": []
  }
 ],
 "metadata": {
  "kernelspec": {
   "display_name": "Python 3",
   "language": "python",
   "name": "python3"
  },
  "language_info": {
   "codemirror_mode": {
    "name": "ipython",
    "version": 3
   },
   "file_extension": ".py",
   "mimetype": "text/x-python",
   "name": "python",
   "nbconvert_exporter": "python",
   "pygments_lexer": "ipython3",
   "version": "3.7.7"
  }
 },
 "nbformat": 4,
 "nbformat_minor": 2
}
